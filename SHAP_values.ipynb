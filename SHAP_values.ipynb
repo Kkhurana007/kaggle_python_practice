{
 "cells": [
  {
   "cell_type": "markdown",
   "id": "6e715fa7",
   "metadata": {},
   "source": [
    "## Learning outcomes"
   ]
  },
  {
   "cell_type": "markdown",
   "id": "1de8ae3a",
   "metadata": {},
   "source": [
    "- how model works for individual prediction\n",
    "- __SH__apely Additive ex__P__lanations"
   ]
  },
  {
   "cell_type": "markdown",
   "id": "740895ec",
   "metadata": {},
   "source": [
    "## Further readings\n",
    "\n",
    "1. [One Feature Attribution Method to (Supposedly) Rule Them All: Shapley Values](https://medium.com/towards-data-science/one-feature-attribution-method-to-supposedly-rule-them-all-shapley-values-f3e04534983d)\n",
    "\n",
    "2. [All you need to Know about SHAP for Explainable AI](https://medium.com/@shahooda637/all-you-need-to-know-about-shap-for-explainable-ai-8ad35a05e6ec)\n",
    "\n",
    "3. [Harnessing the Power of SHAP Values: Unveiling the Magic Behind Machine Learning Predictions](https://medium.com/@astrobenhart/harnessing-the-power-of-shap-values-unveiling-the-magic-behind-machine-learning-predictions-9aa68b5368b4)\n",
    "\n",
    "4. [Model Explainability with SHAP: Only Guide U Need](https://www.kaggle.com/code/bextuychiev/model-explainability-with-shap-only-guide-u-need#How-to-Explain-Any-Model-With-SHAP-Even-If-You-Are-a-Beginner)\n",
    "\n",
    "5. [A game theoretic approach to explain the output of any machine learning model (from Github)](https://github.com/shap/shap)"
   ]
  },
  {
   "cell_type": "markdown",
   "id": "514490ab",
   "metadata": {},
   "source": [
    "__Example Uses-__\n",
    "- Bank loan rejection (each factor explanation)\n",
    "- driving factors for patient's risk in healthcare system"
   ]
  },
  {
   "cell_type": "markdown",
   "id": "08a982d7",
   "metadata": {},
   "source": [
    "__[SHAP](https://github.com/shap/shap) equation__\n",
    "\n",
    "- sum(SHAP values for all features) = prediction_for_team - prediction_for_baseline_values"
   ]
  },
  {
   "cell_type": "markdown",
   "id": "6eb3962a",
   "metadata": {},
   "source": [
    "## Predictions using SHAP library"
   ]
  },
  {
   "cell_type": "code",
   "execution_count": 8,
   "id": "d8804c51",
   "metadata": {},
   "outputs": [],
   "source": [
    "import warnings as wrn\n",
    "wrn.filterwarnings('ignore', category = DeprecationWarning) \n",
    "wrn.filterwarnings('ignore', category = FutureWarning) \n",
    "wrn.filterwarnings('ignore', category = UserWarning) \n",
    "\n",
    "\n",
    "import numpy as np\n",
    "import pandas as pd\n",
    "from sklearn.model_selection import train_test_split\n",
    "from sklearn.ensemble import RandomForestClassifier\n",
    "\n",
    "data = pd.read_csv('FIFA 2018 Statistics.csv')\n",
    "y = (data['Man of the Match'] == \"Yes\")  # Convert from string \"Yes\"/\"No\" to binary\n",
    "feature_names = [i for i in data.columns if data[i].dtype in [np.int64, np.int64]]\n",
    "X = data[feature_names]\n",
    "train_X, val_X, train_y, val_y = train_test_split(X, y, random_state=1)\n",
    "my_model = RandomForestClassifier(random_state=0).fit(train_X, train_y)"
   ]
  },
  {
   "cell_type": "code",
   "execution_count": 9,
   "id": "5a0b4b19",
   "metadata": {},
   "outputs": [
    {
     "data": {
      "text/plain": [
       "array([[0.29, 0.71]])"
      ]
     },
     "execution_count": 9,
     "metadata": {},
     "output_type": "execute_result"
    }
   ],
   "source": [
    "# look for shap values for a single row\n",
    "row_to_show = 5\n",
    "data_for_prediction = val_X.iloc[row_to_show]\n",
    "\n",
    "data_for_prediction_array = data_for_prediction.values.reshape(1,-1)\n",
    "\n",
    "my_model.predict_proba(data_for_prediction_array)"
   ]
  },
  {
   "cell_type": "markdown",
   "id": "99b720d5",
   "metadata": {},
   "source": [
    "- __Inference- the team is 70% likely to have a player win award.__"
   ]
  },
  {
   "cell_type": "code",
   "execution_count": 11,
   "id": "db242d03",
   "metadata": {},
   "outputs": [
    {
     "ename": "ModuleNotFoundError",
     "evalue": "No module named 'shap'",
     "output_type": "error",
     "traceback": [
      "\u001b[1;31m---------------------------------------------------------------------------\u001b[0m",
      "\u001b[1;31mModuleNotFoundError\u001b[0m                       Traceback (most recent call last)",
      "Cell \u001b[1;32mIn[11], line 3\u001b[0m\n\u001b[0;32m      1\u001b[0m \u001b[38;5;66;03m## shap values for prediction\u001b[39;00m\n\u001b[1;32m----> 3\u001b[0m \u001b[38;5;28;01mimport\u001b[39;00m \u001b[38;5;21;01mshap\u001b[39;00m\n\u001b[0;32m      5\u001b[0m \u001b[38;5;66;03m#create object\u001b[39;00m\n\u001b[0;32m      6\u001b[0m explainer \u001b[38;5;241m=\u001b[39m shap\u001b[38;5;241m.\u001b[39mTreeExplainer(my_model)\n",
      "\u001b[1;31mModuleNotFoundError\u001b[0m: No module named 'shap'"
     ]
    }
   ],
   "source": [
    "## shap values for prediction\n",
    "\n",
    "import shap\n",
    "\n",
    "#create object\n",
    "explainer = shap.TreeExplainer(my_model)\n",
    "\n",
    "#calculate shap values\n",
    "shap_values = explainer.shap_values(data_for_prediction)"
   ]
  },
  {
   "cell_type": "markdown",
   "id": "a027394c",
   "metadata": {},
   "source": [
    "The shap_values object above is a list with two arrays. The first array is the SHAP values for a negative outcome (don't win the award), and the second array is the list of SHAP values for the positive outcome (wins the award)."
   ]
  }
 ],
 "metadata": {
  "kernelspec": {
   "display_name": "Python 3 (ipykernel)",
   "language": "python",
   "name": "python3"
  },
  "language_info": {
   "codemirror_mode": {
    "name": "ipython",
    "version": 3
   },
   "file_extension": ".py",
   "mimetype": "text/x-python",
   "name": "python",
   "nbconvert_exporter": "python",
   "pygments_lexer": "ipython3",
   "version": "3.12.1"
  }
 },
 "nbformat": 4,
 "nbformat_minor": 5
}
