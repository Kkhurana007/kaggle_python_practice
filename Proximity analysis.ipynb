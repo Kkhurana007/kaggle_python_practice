{
 "cells": [
  {
   "cell_type": "markdown",
   "id": "81ac970a",
   "metadata": {},
   "source": [
    "---\n",
    "image: geopandas2.png \n",
    "title: Proximity Analysis \n",
    "subtitle: Data analysis with GeoPandas \n",
    "date: '2023-01-07' \n",
    "categories: [Python, GeoPandas, Proximity Analysis] \n",
    "author: Kunal Khurana \n",
    "jupyter: python3 \n",
    "toc: True\n",
    "---"
   ]
  },
  {
   "cell_type": "markdown",
   "id": "9d35729b",
   "metadata": {},
   "source": [
    "## Techniques\n",
    "\n",
    "> __measure distance__ between points on map\n",
    "\n",
    "> select all points within same radius"
   ]
  },
  {
   "cell_type": "code",
   "execution_count": 3,
   "id": "b14e8152",
   "metadata": {},
   "outputs": [],
   "source": [
    "import folium\n",
    "from folium import Marker, GeoJson\n",
    "from folium.plugins import HeatMap\n",
    "\n",
    "import pandas as pd\n",
    "import geopandas as gpd\n"
   ]
  },
  {
   "cell_type": "code",
   "execution_count": 6,
   "id": "8988f111",
   "metadata": {},
   "outputs": [
    {
     "data": {
      "text/html": [
       "<div>\n",
       "<style scoped>\n",
       "    .dataframe tbody tr th:only-of-type {\n",
       "        vertical-align: middle;\n",
       "    }\n",
       "\n",
       "    .dataframe tbody tr th {\n",
       "        vertical-align: top;\n",
       "    }\n",
       "\n",
       "    .dataframe thead th {\n",
       "        text-align: right;\n",
       "    }\n",
       "</style>\n",
       "<table border=\"1\" class=\"dataframe\">\n",
       "  <thead>\n",
       "    <tr style=\"text-align: right;\">\n",
       "      <th></th>\n",
       "      <th>YEAR</th>\n",
       "      <th>CITY</th>\n",
       "      <th>COUNTY</th>\n",
       "      <th>ST</th>\n",
       "      <th>LATITUDE</th>\n",
       "      <th>LONGITUDE</th>\n",
       "      <th>CHEMICAL</th>\n",
       "      <th>UNIT_OF_ME</th>\n",
       "      <th>TOTAL_RELE</th>\n",
       "      <th>geometry</th>\n",
       "    </tr>\n",
       "  </thead>\n",
       "  <tbody>\n",
       "    <tr>\n",
       "      <th>0</th>\n",
       "      <td>2016</td>\n",
       "      <td>PHILADELPHIA</td>\n",
       "      <td>PHILADELPHIA</td>\n",
       "      <td>PA</td>\n",
       "      <td>40.005901</td>\n",
       "      <td>-75.072103</td>\n",
       "      <td>FORMIC ACID</td>\n",
       "      <td>Pounds</td>\n",
       "      <td>0.160</td>\n",
       "      <td>POINT (2718560.227 256380.179)</td>\n",
       "    </tr>\n",
       "    <tr>\n",
       "      <th>1</th>\n",
       "      <td>2016</td>\n",
       "      <td>PHILADELPHIA</td>\n",
       "      <td>PHILADELPHIA</td>\n",
       "      <td>PA</td>\n",
       "      <td>39.920120</td>\n",
       "      <td>-75.146410</td>\n",
       "      <td>ETHYLENE GLYCOL</td>\n",
       "      <td>Pounds</td>\n",
       "      <td>13353.480</td>\n",
       "      <td>POINT (2698674.606 224522.905)</td>\n",
       "    </tr>\n",
       "    <tr>\n",
       "      <th>2</th>\n",
       "      <td>2016</td>\n",
       "      <td>PHILADELPHIA</td>\n",
       "      <td>PHILADELPHIA</td>\n",
       "      <td>PA</td>\n",
       "      <td>40.023880</td>\n",
       "      <td>-75.220450</td>\n",
       "      <td>CERTAIN GLYCOL ETHERS</td>\n",
       "      <td>Pounds</td>\n",
       "      <td>104.135</td>\n",
       "      <td>POINT (2676833.394 261701.856)</td>\n",
       "    </tr>\n",
       "    <tr>\n",
       "      <th>3</th>\n",
       "      <td>2016</td>\n",
       "      <td>PHILADELPHIA</td>\n",
       "      <td>PHILADELPHIA</td>\n",
       "      <td>PA</td>\n",
       "      <td>39.913540</td>\n",
       "      <td>-75.198890</td>\n",
       "      <td>LEAD COMPOUNDS</td>\n",
       "      <td>Pounds</td>\n",
       "      <td>1730.280</td>\n",
       "      <td>POINT (2684030.004 221697.388)</td>\n",
       "    </tr>\n",
       "    <tr>\n",
       "      <th>4</th>\n",
       "      <td>2016</td>\n",
       "      <td>PHILADELPHIA</td>\n",
       "      <td>PHILADELPHIA</td>\n",
       "      <td>PA</td>\n",
       "      <td>39.913540</td>\n",
       "      <td>-75.198890</td>\n",
       "      <td>BENZENE</td>\n",
       "      <td>Pounds</td>\n",
       "      <td>39863.290</td>\n",
       "      <td>POINT (2684030.004 221697.388)</td>\n",
       "    </tr>\n",
       "  </tbody>\n",
       "</table>\n",
       "</div>"
      ],
      "text/plain": [
       "   YEAR          CITY        COUNTY  ST   LATITUDE  LONGITUDE  \\\n",
       "0  2016  PHILADELPHIA  PHILADELPHIA  PA  40.005901 -75.072103   \n",
       "1  2016  PHILADELPHIA  PHILADELPHIA  PA  39.920120 -75.146410   \n",
       "2  2016  PHILADELPHIA  PHILADELPHIA  PA  40.023880 -75.220450   \n",
       "3  2016  PHILADELPHIA  PHILADELPHIA  PA  39.913540 -75.198890   \n",
       "4  2016  PHILADELPHIA  PHILADELPHIA  PA  39.913540 -75.198890   \n",
       "\n",
       "                CHEMICAL UNIT_OF_ME  TOTAL_RELE  \\\n",
       "0            FORMIC ACID     Pounds       0.160   \n",
       "1        ETHYLENE GLYCOL     Pounds   13353.480   \n",
       "2  CERTAIN GLYCOL ETHERS     Pounds     104.135   \n",
       "3         LEAD COMPOUNDS     Pounds    1730.280   \n",
       "4                BENZENE     Pounds   39863.290   \n",
       "\n",
       "                         geometry  \n",
       "0  POINT (2718560.227 256380.179)  \n",
       "1  POINT (2698674.606 224522.905)  \n",
       "2  POINT (2676833.394 261701.856)  \n",
       "3  POINT (2684030.004 221697.388)  \n",
       "4  POINT (2684030.004 221697.388)  "
      ]
     },
     "execution_count": 6,
     "metadata": {},
     "output_type": "execute_result"
    }
   ],
   "source": [
    "releases = gpd.read_file('data_for_all_courses\\\\toxic_release_pennsylvania\\\\toxic_release_pennsylvania.shp')\n",
    "releases.head()"
   ]
  },
  {
   "cell_type": "code",
   "execution_count": 31,
   "id": "7fe5949e",
   "metadata": {},
   "outputs": [
    {
     "name": "stdout",
     "output_type": "stream",
     "text": [
      "<class 'geopandas.geodataframe.GeoDataFrame'>\n",
      "RangeIndex: 4663 entries, 0 to 4662\n",
      "Data columns (total 10 columns):\n",
      " #   Column      Non-Null Count  Dtype   \n",
      "---  ------      --------------  -----   \n",
      " 0   YEAR        4663 non-null   object  \n",
      " 1   CITY        4663 non-null   object  \n",
      " 2   COUNTY      4663 non-null   object  \n",
      " 3   ST          4663 non-null   object  \n",
      " 4   LATITUDE    4663 non-null   float64 \n",
      " 5   LONGITUDE   4663 non-null   float64 \n",
      " 6   CHEMICAL    4663 non-null   object  \n",
      " 7   UNIT_OF_ME  4663 non-null   object  \n",
      " 8   TOTAL_RELE  4663 non-null   float64 \n",
      " 9   geometry    4663 non-null   geometry\n",
      "dtypes: float64(3), geometry(1), object(6)\n",
      "memory usage: 364.4+ KB\n"
     ]
    }
   ],
   "source": [
    "releases.info()"
   ]
  },
  {
   "cell_type": "code",
   "execution_count": 19,
   "id": "5f64b097",
   "metadata": {},
   "outputs": [
    {
     "data": {
      "text/html": [
       "<div>\n",
       "<style scoped>\n",
       "    .dataframe tbody tr th:only-of-type {\n",
       "        vertical-align: middle;\n",
       "    }\n",
       "\n",
       "    .dataframe tbody tr th {\n",
       "        vertical-align: top;\n",
       "    }\n",
       "\n",
       "    .dataframe thead th {\n",
       "        text-align: right;\n",
       "    }\n",
       "</style>\n",
       "<table border=\"1\" class=\"dataframe\">\n",
       "  <thead>\n",
       "    <tr style=\"text-align: right;\">\n",
       "      <th></th>\n",
       "      <th>geometry</th>\n",
       "    </tr>\n",
       "  </thead>\n",
       "  <tbody>\n",
       "    <tr>\n",
       "      <th>0</th>\n",
       "      <td>POINT (2718560.227 256380.179)</td>\n",
       "    </tr>\n",
       "    <tr>\n",
       "      <th>1</th>\n",
       "      <td>POINT (2698674.606 224522.905)</td>\n",
       "    </tr>\n",
       "    <tr>\n",
       "      <th>2</th>\n",
       "      <td>POINT (2676833.394 261701.856)</td>\n",
       "    </tr>\n",
       "    <tr>\n",
       "      <th>3</th>\n",
       "      <td>POINT (2684030.004 221697.388)</td>\n",
       "    </tr>\n",
       "    <tr>\n",
       "      <th>4</th>\n",
       "      <td>POINT (2684030.004 221697.388)</td>\n",
       "    </tr>\n",
       "  </tbody>\n",
       "</table>\n",
       "</div>"
      ],
      "text/plain": [
       "                         geometry\n",
       "0  POINT (2718560.227 256380.179)\n",
       "1  POINT (2698674.606 224522.905)\n",
       "2  POINT (2676833.394 261701.856)\n",
       "3  POINT (2684030.004 221697.388)\n",
       "4  POINT (2684030.004 221697.388)"
      ]
     },
     "execution_count": 19,
     "metadata": {},
     "output_type": "execute_result"
    }
   ],
   "source": [
    "# air quality data\n",
    "stations = gpd.read_file('data_for_all_courses\\\\toxic_release_pennsylvania.shx')\n",
    "stations.head()"
   ]
  },
  {
   "cell_type": "code",
   "execution_count": 12,
   "id": "590b18b0",
   "metadata": {},
   "outputs": [
    {
     "name": "stdout",
     "output_type": "stream",
     "text": [
      "<class 'geopandas.geodataframe.GeoDataFrame'>\n",
      "RangeIndex: 4663 entries, 0 to 4662\n",
      "Data columns (total 1 columns):\n",
      " #   Column    Non-Null Count  Dtype   \n",
      "---  ------    --------------  -----   \n",
      " 0   geometry  4663 non-null   geometry\n",
      "dtypes: geometry(1)\n",
      "memory usage: 36.6 KB\n"
     ]
    }
   ],
   "source": [
    "stations.info()"
   ]
  },
  {
   "cell_type": "code",
   "execution_count": 17,
   "id": "2b681c37",
   "metadata": {},
   "outputs": [
    {
     "data": {
      "text/html": [
       "<div>\n",
       "<style scoped>\n",
       "    .dataframe tbody tr th:only-of-type {\n",
       "        vertical-align: middle;\n",
       "    }\n",
       "\n",
       "    .dataframe tbody tr th {\n",
       "        vertical-align: top;\n",
       "    }\n",
       "\n",
       "    .dataframe thead th {\n",
       "        text-align: right;\n",
       "    }\n",
       "</style>\n",
       "<table border=\"1\" class=\"dataframe\">\n",
       "  <thead>\n",
       "    <tr style=\"text-align: right;\">\n",
       "      <th></th>\n",
       "      <th>geometry</th>\n",
       "    </tr>\n",
       "  </thead>\n",
       "  <tbody>\n",
       "    <tr>\n",
       "      <th>0</th>\n",
       "      <td>POINT (2718560.227 256380.179)</td>\n",
       "    </tr>\n",
       "    <tr>\n",
       "      <th>1</th>\n",
       "      <td>POINT (2698674.606 224522.905)</td>\n",
       "    </tr>\n",
       "    <tr>\n",
       "      <th>2</th>\n",
       "      <td>POINT (2676833.394 261701.856)</td>\n",
       "    </tr>\n",
       "    <tr>\n",
       "      <th>3</th>\n",
       "      <td>POINT (2684030.004 221697.388)</td>\n",
       "    </tr>\n",
       "    <tr>\n",
       "      <th>4</th>\n",
       "      <td>POINT (2684030.004 221697.388)</td>\n",
       "    </tr>\n",
       "  </tbody>\n",
       "</table>\n",
       "</div>"
      ],
      "text/plain": [
       "                         geometry\n",
       "0  POINT (2718560.227 256380.179)\n",
       "1  POINT (2698674.606 224522.905)\n",
       "2  POINT (2676833.394 261701.856)\n",
       "3  POINT (2684030.004 221697.388)\n",
       "4  POINT (2684030.004 221697.388)"
      ]
     },
     "execution_count": 17,
     "metadata": {},
     "output_type": "execute_result"
    }
   ],
   "source": [
    "stations2 = gpd.read_file('data_for_all_courses\\\\toxic_release_pennsylvania.shp')\n",
    "stations2.head()"
   ]
  },
  {
   "cell_type": "code",
   "execution_count": 20,
   "id": "4fd26d61",
   "metadata": {},
   "outputs": [
    {
     "data": {
      "text/html": [
       "<div>\n",
       "<style scoped>\n",
       "    .dataframe tbody tr th:only-of-type {\n",
       "        vertical-align: middle;\n",
       "    }\n",
       "\n",
       "    .dataframe tbody tr th {\n",
       "        vertical-align: top;\n",
       "    }\n",
       "\n",
       "    .dataframe thead th {\n",
       "        text-align: right;\n",
       "    }\n",
       "</style>\n",
       "<table border=\"1\" class=\"dataframe\">\n",
       "  <thead>\n",
       "    <tr style=\"text-align: right;\">\n",
       "      <th></th>\n",
       "      <th>YEAR</th>\n",
       "      <th>CITY</th>\n",
       "      <th>COUNTY</th>\n",
       "      <th>ST</th>\n",
       "      <th>LATITUDE</th>\n",
       "      <th>LONGITUDE</th>\n",
       "      <th>CHEMICAL</th>\n",
       "      <th>UNIT_OF_ME</th>\n",
       "      <th>TOTAL_RELE</th>\n",
       "      <th>geometry</th>\n",
       "    </tr>\n",
       "  </thead>\n",
       "  <tbody>\n",
       "    <tr>\n",
       "      <th>0</th>\n",
       "      <td>2016</td>\n",
       "      <td>PHILADELPHIA</td>\n",
       "      <td>PHILADELPHIA</td>\n",
       "      <td>PA</td>\n",
       "      <td>40.005901</td>\n",
       "      <td>-75.072103</td>\n",
       "      <td>FORMIC ACID</td>\n",
       "      <td>Pounds</td>\n",
       "      <td>0.160</td>\n",
       "      <td>POINT (2718560.227 256380.179)</td>\n",
       "    </tr>\n",
       "    <tr>\n",
       "      <th>1</th>\n",
       "      <td>2016</td>\n",
       "      <td>PHILADELPHIA</td>\n",
       "      <td>PHILADELPHIA</td>\n",
       "      <td>PA</td>\n",
       "      <td>39.920120</td>\n",
       "      <td>-75.146410</td>\n",
       "      <td>ETHYLENE GLYCOL</td>\n",
       "      <td>Pounds</td>\n",
       "      <td>13353.480</td>\n",
       "      <td>POINT (2698674.606 224522.905)</td>\n",
       "    </tr>\n",
       "    <tr>\n",
       "      <th>2</th>\n",
       "      <td>2016</td>\n",
       "      <td>PHILADELPHIA</td>\n",
       "      <td>PHILADELPHIA</td>\n",
       "      <td>PA</td>\n",
       "      <td>40.023880</td>\n",
       "      <td>-75.220450</td>\n",
       "      <td>CERTAIN GLYCOL ETHERS</td>\n",
       "      <td>Pounds</td>\n",
       "      <td>104.135</td>\n",
       "      <td>POINT (2676833.394 261701.856)</td>\n",
       "    </tr>\n",
       "    <tr>\n",
       "      <th>3</th>\n",
       "      <td>2016</td>\n",
       "      <td>PHILADELPHIA</td>\n",
       "      <td>PHILADELPHIA</td>\n",
       "      <td>PA</td>\n",
       "      <td>39.913540</td>\n",
       "      <td>-75.198890</td>\n",
       "      <td>LEAD COMPOUNDS</td>\n",
       "      <td>Pounds</td>\n",
       "      <td>1730.280</td>\n",
       "      <td>POINT (2684030.004 221697.388)</td>\n",
       "    </tr>\n",
       "    <tr>\n",
       "      <th>4</th>\n",
       "      <td>2016</td>\n",
       "      <td>PHILADELPHIA</td>\n",
       "      <td>PHILADELPHIA</td>\n",
       "      <td>PA</td>\n",
       "      <td>39.913540</td>\n",
       "      <td>-75.198890</td>\n",
       "      <td>BENZENE</td>\n",
       "      <td>Pounds</td>\n",
       "      <td>39863.290</td>\n",
       "      <td>POINT (2684030.004 221697.388)</td>\n",
       "    </tr>\n",
       "  </tbody>\n",
       "</table>\n",
       "</div>"
      ],
      "text/plain": [
       "   YEAR          CITY        COUNTY  ST   LATITUDE  LONGITUDE  \\\n",
       "0  2016  PHILADELPHIA  PHILADELPHIA  PA  40.005901 -75.072103   \n",
       "1  2016  PHILADELPHIA  PHILADELPHIA  PA  39.920120 -75.146410   \n",
       "2  2016  PHILADELPHIA  PHILADELPHIA  PA  40.023880 -75.220450   \n",
       "3  2016  PHILADELPHIA  PHILADELPHIA  PA  39.913540 -75.198890   \n",
       "4  2016  PHILADELPHIA  PHILADELPHIA  PA  39.913540 -75.198890   \n",
       "\n",
       "                CHEMICAL UNIT_OF_ME  TOTAL_RELE  \\\n",
       "0            FORMIC ACID     Pounds       0.160   \n",
       "1        ETHYLENE GLYCOL     Pounds   13353.480   \n",
       "2  CERTAIN GLYCOL ETHERS     Pounds     104.135   \n",
       "3         LEAD COMPOUNDS     Pounds    1730.280   \n",
       "4                BENZENE     Pounds   39863.290   \n",
       "\n",
       "                         geometry  \n",
       "0  POINT (2718560.227 256380.179)  \n",
       "1  POINT (2698674.606 224522.905)  \n",
       "2  POINT (2676833.394 261701.856)  \n",
       "3  POINT (2684030.004 221697.388)  \n",
       "4  POINT (2684030.004 221697.388)  "
      ]
     },
     "execution_count": 20,
     "metadata": {},
     "output_type": "execute_result"
    }
   ],
   "source": [
    "stations3 = gpd.read_file('data_for_all_courses\\\\toxic_release_pennsylvania.dbf')\n",
    "stations3.head()"
   ]
  },
  {
   "cell_type": "code",
   "execution_count": 21,
   "id": "27be75d3",
   "metadata": {},
   "outputs": [
    {
     "name": "stdout",
     "output_type": "stream",
     "text": [
      "<class 'geopandas.geodataframe.GeoDataFrame'>\n",
      "RangeIndex: 4663 entries, 0 to 4662\n",
      "Data columns (total 10 columns):\n",
      " #   Column      Non-Null Count  Dtype   \n",
      "---  ------      --------------  -----   \n",
      " 0   YEAR        4663 non-null   object  \n",
      " 1   CITY        4663 non-null   object  \n",
      " 2   COUNTY      4663 non-null   object  \n",
      " 3   ST          4663 non-null   object  \n",
      " 4   LATITUDE    4663 non-null   float64 \n",
      " 5   LONGITUDE   4663 non-null   float64 \n",
      " 6   CHEMICAL    4663 non-null   object  \n",
      " 7   UNIT_OF_ME  4663 non-null   object  \n",
      " 8   TOTAL_RELE  4663 non-null   float64 \n",
      " 9   geometry    4663 non-null   geometry\n",
      "dtypes: float64(3), geometry(1), object(6)\n",
      "memory usage: 364.4+ KB\n"
     ]
    }
   ],
   "source": [
    "stations3.info()"
   ]
  },
  {
   "cell_type": "code",
   "execution_count": 22,
   "id": "bbeed2cf",
   "metadata": {},
   "outputs": [
    {
     "name": "stdout",
     "output_type": "stream",
     "text": [
      "None\n",
      "EPSG:2272\n"
     ]
    }
   ],
   "source": [
    "# checking crs coordinates for both\n",
    "print(stations3.crs)\n",
    "print(releases.crs)"
   ]
  },
  {
   "cell_type": "code",
   "execution_count": 24,
   "id": "65c26e88",
   "metadata": {},
   "outputs": [],
   "source": [
    "#  stations3 = stations3.set_crs\n",
    "stations3 = stations3.set_crs(epsg=2272, inplace=True)\n"
   ]
  },
  {
   "cell_type": "code",
   "execution_count": 26,
   "id": "d841887f",
   "metadata": {},
   "outputs": [
    {
     "name": "stdout",
     "output_type": "stream",
     "text": [
      "EPSG:2272\n",
      "EPSG:2272\n"
     ]
    }
   ],
   "source": [
    "# checking crs coordinates for both\n",
    "print(stations3.crs)\n",
    "print(releases.crs)"
   ]
  },
  {
   "cell_type": "code",
   "execution_count": 28,
   "id": "8fc865c9",
   "metadata": {},
   "outputs": [
    {
     "data": {
      "text/plain": [
       "0       48941.110275\n",
       "1       14914.687505\n",
       "2       40646.631420\n",
       "3           0.000000\n",
       "4           0.000000\n",
       "            ...     \n",
       "4658    41735.245165\n",
       "4659    40909.967527\n",
       "4660     4519.771240\n",
       "4661    32442.454868\n",
       "4662    20534.504851\n",
       "Length: 4663, dtype: float64"
      ]
     },
     "execution_count": 28,
     "metadata": {},
     "output_type": "execute_result"
    }
   ],
   "source": [
    "# select one release incident in particular\n",
    "recent_release = releases.iloc[360]\n",
    "\n",
    "# measure distances from each station\n",
    "distances = stations3.geometry.distance(recent_release.geometry)\n",
    "distances"
   ]
  },
  {
   "cell_type": "code",
   "execution_count": 30,
   "id": "dedcce36",
   "metadata": {},
   "outputs": [
    {
     "name": "stdout",
     "output_type": "stream",
     "text": [
      "Mean distance to monitoring stations: 35350.82207483399 feet\n"
     ]
    }
   ],
   "source": [
    "# mean distance\n",
    "print(f'Mean distance to monitoring stations: {distances.mean()} feet')"
   ]
  },
  {
   "cell_type": "code",
   "execution_count": 34,
   "id": "ba0c7bd5",
   "metadata": {},
   "outputs": [
    {
     "name": "stdout",
     "output_type": "stream",
     "text": [
      "COUNTY       PHILADELPHIA\n",
      "LATITUDE         39.91354\n",
      "LONGITUDE       -75.19889\n",
      "Name: 3, dtype: object\n"
     ]
    }
   ],
   "source": [
    "# print minimum\n",
    "print(stations3.iloc[distances.idxmin()][['COUNTY', 'LATITUDE', 'LONGITUDE']])"
   ]
  },
  {
   "cell_type": "code",
   "execution_count": null,
   "id": "ecb11939",
   "metadata": {},
   "outputs": [],
   "source": []
  }
 ],
 "metadata": {
  "kernelspec": {
   "display_name": "Python 3 (ipykernel)",
   "language": "python",
   "name": "python3"
  },
  "language_info": {
   "codemirror_mode": {
    "name": "ipython",
    "version": 3
   },
   "file_extension": ".py",
   "mimetype": "text/x-python",
   "name": "python",
   "nbconvert_exporter": "python",
   "pygments_lexer": "ipython3",
   "version": "3.11.5"
  }
 },
 "nbformat": 4,
 "nbformat_minor": 5
}
